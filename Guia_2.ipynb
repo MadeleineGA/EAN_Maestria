{
  "nbformat": 4,
  "nbformat_minor": 0,
  "metadata": {
    "colab": {
      "provenance": [],
      "include_colab_link": true
    },
    "kernelspec": {
      "name": "python3",
      "display_name": "Python 3"
    },
    "language_info": {
      "name": "python"
    }
  },
  "cells": [
    {
      "cell_type": "markdown",
      "metadata": {
        "id": "view-in-github",
        "colab_type": "text"
      },
      "source": [
        "<a href=\"https://colab.research.google.com/github/MadeleineGA/EAN_Maestria/blob/main/Guia_2.ipynb\" target=\"_parent\"><img src=\"https://colab.research.google.com/assets/colab-badge.svg\" alt=\"Open In Colab\"/></a>"
      ]
    },
    {
      "cell_type": "markdown",
      "source": [
        "##**Grupo XX: Cristian Amezquita / Madeleine Gil**"
      ],
      "metadata": {
        "id": "SuX1WGC7oGbw"
      }
    },
    {
      "cell_type": "markdown",
      "source": [
        "# **Guía 2**\n",
        "\n",
        "Objetivo: aplicar los conceptos de Pandas en la manipulación y análisis de datos estructurados. Se trabajará con Series y DataFrames, aplicando técnicas de acceso, selección, filtrado y agregación de datos.\n",
        "\n",
        "### **Caso de Negocio: Análisis de Deserción de Clientes en una Empresa de Telecomunicaciones**\n",
        "\n",
        "**Contexto**\n",
        "\n",
        "En la industria de las telecomunicaciones, la retención de clientes es un factor crítico para la sostenibilidad del negocio. La competencia es feroz y adquirir nuevos clientes suele ser más costoso que mantener a los actuales. En este análisis, exploraremos un conjunto de datos que contiene información detallada sobre clientes que han abandonado el servicio (churn) y aquellos que permanecen activos.\n",
        "\n",
        "Nuestro objetivo es identificar los factores clave que influyen en la deserción, comprender patrones de comportamiento y generar estrategias efectivas para reducir la tasa de abandono.\n",
        "\n",
        "La empresa ha experimentado un aumento en la tasa de deserción de clientes, lo que ha provocado:\n",
        "- Pérdida de ingresos recurrentes.\n",
        "- Incremento en los costos de adquisición de nuevos clientes.\n",
        "- Menor estabilidad en la base de clientes a largo plazo.\n",
        "\n",
        "Para abordar esta problemática, es crucial identificar las razones detrás de la deserción y desarrollar estrategias para mejorar la retención de clientes.\n",
        "\n"
      ],
      "metadata": {
        "id": "sVxeQki8vRXz"
      }
    },
    {
      "cell_type": "markdown",
      "source": [
        "**Entrega del Trabajo**\n",
        "\n",
        "Los estudiantes deben trabajar en grupos de entre 2 y 4 personas. Cada grupo deberá subir su trabajo a un repositorio de GitHub, asegurándose de que el código y los archivos necesarios estén bien organizados y documentados. Posteriormente, deberán enviar el enlace del repositorio en la plataforma Canvas para su evaluación.\n",
        "\n",
        "Instrucciones para la entrega:\n",
        "\n",
        "Crear un repositorio en GitHub con un nombre descriptivo para el proyecto.\n",
        "\n",
        "Subir el código en Jupyter Notebook (.ipynb) o en formato Python (.py).\n",
        "\n",
        "Incluir un archivo README.md con una breve descripción del trabajo y las instrucciones de ejecución.\n",
        "\n",
        "Compartir el enlace del repositorio en Canvas dentro del plazo establecido.\n",
        "\n"
      ],
      "metadata": {
        "id": "TBsud25XSR0w"
      }
    },
    {
      "cell_type": "markdown",
      "source": [
        "**Descripción de las variables del dataset telecom_churn**\n",
        "\n",
        "El dataset telecom_churn contiene información detallada sobre clientes de una empresa de telecomunicaciones, incluyendo datos generales, planes contratados, uso del servicio telefónico y llamadas al servicio al cliente. Su propósito principal es analizar patrones de deserción de clientes, identificados a través de la variable churn, que indica si un cliente ha abandonado la empresa (1) o sigue siendo cliente (0).\n",
        "\n",
        "Dentro del dataset, encontramos información general como el estado (state) donde reside el cliente, el código de área (area code), y el número de teléfono (phone number), aunque esta última variable no aporta información útil para el análisis, ya que es un identificador único.\n",
        "\n",
        "Además, el dataset registra el tiempo que un cliente ha estado en la empresa a través de la variable account length, lo que puede ayudar a analizar si la duración del contrato influye en la deserción. También se incluyen detalles sobre los planes contratados, como si el cliente tiene un plan internacional (international plan), que le permite realizar llamadas internacionales, o un buzón de voz (voice mail plan), que le permite recibir mensajes de voz.\n",
        "\n",
        "En cuanto al uso del servicio, se registran datos detallados sobre el tiempo en llamadas y los costos asociados. Se divide en tres períodos del día: diurno (total day minutes, total day calls, total day charge), vespertino (total eve minutes, total eve calls, total eve charge) y nocturno (total night minutes, total night calls, total night charge), lo que permite evaluar si hay patrones de consumo que influyen en la deserción. También se incluye información sobre el uso del servicio internacional, con variables como total intl minutes (minutos en llamadas internacionales), total intl calls (cantidad de llamadas internacionales) y total intl charge (costos por llamadas internacionales).\n",
        "\n",
        "Otro aspecto clave del dataset es el número de llamadas al servicio al cliente (customer service calls), ya que una mayor cantidad de llamadas puede indicar insatisfacción y estar relacionada con la decisión del cliente de abandonar la empresa.\n",
        "\n",
        "Finalmente, la variable más importante del análisis es churn, que indica si un cliente ha desertado de la empresa. A partir de esta variable, podemos analizar qué factores influyen en la deserción y encontrar patrones en los clientes que tienen mayor probabilidad de abandonar el servicio.\n"
      ],
      "metadata": {
        "id": "R1eyqBGSScta"
      }
    },
    {
      "cell_type": "code",
      "source": [
        "from google.colab import drive\n",
        "drive.mount('/content/drive', force_remount=True)"
      ],
      "metadata": {
        "colab": {
          "base_uri": "https://localhost:8080/"
        },
        "id": "Z1XWIePPhOnC",
        "outputId": "b5731242-5ccc-4389-973e-2d2333401470"
      },
      "execution_count": null,
      "outputs": [
        {
          "output_type": "stream",
          "name": "stdout",
          "text": [
            "Mounted at /content/drive\n"
          ]
        }
      ]
    },
    {
      "cell_type": "code",
      "source": [
        "%cd /content/drive/MyDrive/Colab Notebooks/EAN"
      ],
      "metadata": {
        "colab": {
          "base_uri": "https://localhost:8080/"
        },
        "id": "mmINeOWUhZMk",
        "outputId": "dc28395f-4947-4d46-eafd-42b392c28a7a"
      },
      "execution_count": null,
      "outputs": [
        {
          "output_type": "stream",
          "name": "stdout",
          "text": [
            "/content/drive/MyDrive/Colab Notebooks/EAN\n"
          ]
        }
      ]
    },
    {
      "cell_type": "markdown",
      "source": [
        "**Exploración y Limpieza de Datos**\n",
        "\n",
        "Cargar y explorar el dataset\n",
        "\n",
        "Importa Pandas y carga el dataset telecom_churn.csv en un DataFrame.\n",
        "\n",
        "Muestra las primeras 5 filas del DataFrame.\n",
        "\n",
        "Verifica cuántas filas y columnas tiene el dataset.\n",
        "\n",
        "Muestra información general del dataset, incluyendo los tipos de datos.\n",
        "\n",
        "Identifica si hay valores nulos en alguna columna."
      ],
      "metadata": {
        "id": "-gqRGJ8yFs5Y"
      }
    },
    {
      "cell_type": "code",
      "execution_count": null,
      "metadata": {
        "id": "wuoyvrE0vQ09",
        "colab": {
          "base_uri": "https://localhost:8080/",
          "height": 427
        },
        "outputId": "856fa242-79e4-4b0f-d9f5-009463576f11"
      },
      "outputs": [
        {
          "output_type": "execute_result",
          "data": {
            "text/plain": [
              "  state  account length  area code phone number international plan  \\\n",
              "0    KS             128        415     382-4657                 no   \n",
              "1    OH             107        415     371-7191                 no   \n",
              "2    NJ             137        415     358-1921                 no   \n",
              "3    OH              84        408     375-9999                yes   \n",
              "4    OK              75        415     330-6626                yes   \n",
              "5    AL             118        510     391-8027                yes   \n",
              "6    MA             121        510     355-9993                 no   \n",
              "7    MO             147        415     329-9001                yes   \n",
              "8    LA             117        408     335-4719                 no   \n",
              "9    WV             141        415     330-8173                yes   \n",
              "\n",
              "  voice mail plan  number vmail messages  total day minutes  total day calls  \\\n",
              "0             yes                     25              265.1              110   \n",
              "1             yes                     26              161.6              123   \n",
              "2              no                      0              243.4              114   \n",
              "3              no                      0              299.4               71   \n",
              "4              no                      0              166.7              113   \n",
              "5              no                      0              223.4               98   \n",
              "6             yes                     24              218.2               88   \n",
              "7              no                      0              157.0               79   \n",
              "8              no                      0              184.5               97   \n",
              "9             yes                     37              258.6               84   \n",
              "\n",
              "   total day charge  ...  total eve calls  total eve charge  \\\n",
              "0             45.07  ...               99             16.78   \n",
              "1             27.47  ...              103             16.62   \n",
              "2             41.38  ...              110             10.30   \n",
              "3             50.90  ...               88              5.26   \n",
              "4             28.34  ...              122             12.61   \n",
              "5             37.98  ...              101             18.75   \n",
              "6             37.09  ...              108             29.62   \n",
              "7             26.69  ...               94              8.76   \n",
              "8             31.37  ...               80             29.89   \n",
              "9             43.96  ...              111             18.87   \n",
              "\n",
              "   total night minutes  total night calls  total night charge  \\\n",
              "0                244.7                 91               11.01   \n",
              "1                254.4                103               11.45   \n",
              "2                162.6                104                7.32   \n",
              "3                196.9                 89                8.86   \n",
              "4                186.9                121                8.41   \n",
              "5                203.9                118                9.18   \n",
              "6                212.6                118                9.57   \n",
              "7                211.8                 96                9.53   \n",
              "8                215.8                 90                9.71   \n",
              "9                326.4                 97               14.69   \n",
              "\n",
              "   total intl minutes  total intl calls  total intl charge  \\\n",
              "0                10.0                 3               2.70   \n",
              "1                13.7                 3               3.70   \n",
              "2                12.2                 5               3.29   \n",
              "3                 6.6                 7               1.78   \n",
              "4                10.1                 3               2.73   \n",
              "5                 6.3                 6               1.70   \n",
              "6                 7.5                 7               2.03   \n",
              "7                 7.1                 6               1.92   \n",
              "8                 8.7                 4               2.35   \n",
              "9                11.2                 5               3.02   \n",
              "\n",
              "   customer service calls  churn  \n",
              "0                       1  False  \n",
              "1                       1  False  \n",
              "2                       0  False  \n",
              "3                       2  False  \n",
              "4                       3  False  \n",
              "5                       0  False  \n",
              "6                       3  False  \n",
              "7                       0  False  \n",
              "8                       1  False  \n",
              "9                       0  False  \n",
              "\n",
              "[10 rows x 21 columns]"
            ],
            "text/html": [
              "\n",
              "  <div id=\"df-4d3bd996-1eea-4d66-b593-5b8238af1357\" class=\"colab-df-container\">\n",
              "    <div>\n",
              "<style scoped>\n",
              "    .dataframe tbody tr th:only-of-type {\n",
              "        vertical-align: middle;\n",
              "    }\n",
              "\n",
              "    .dataframe tbody tr th {\n",
              "        vertical-align: top;\n",
              "    }\n",
              "\n",
              "    .dataframe thead th {\n",
              "        text-align: right;\n",
              "    }\n",
              "</style>\n",
              "<table border=\"1\" class=\"dataframe\">\n",
              "  <thead>\n",
              "    <tr style=\"text-align: right;\">\n",
              "      <th></th>\n",
              "      <th>state</th>\n",
              "      <th>account length</th>\n",
              "      <th>area code</th>\n",
              "      <th>phone number</th>\n",
              "      <th>international plan</th>\n",
              "      <th>voice mail plan</th>\n",
              "      <th>number vmail messages</th>\n",
              "      <th>total day minutes</th>\n",
              "      <th>total day calls</th>\n",
              "      <th>total day charge</th>\n",
              "      <th>...</th>\n",
              "      <th>total eve calls</th>\n",
              "      <th>total eve charge</th>\n",
              "      <th>total night minutes</th>\n",
              "      <th>total night calls</th>\n",
              "      <th>total night charge</th>\n",
              "      <th>total intl minutes</th>\n",
              "      <th>total intl calls</th>\n",
              "      <th>total intl charge</th>\n",
              "      <th>customer service calls</th>\n",
              "      <th>churn</th>\n",
              "    </tr>\n",
              "  </thead>\n",
              "  <tbody>\n",
              "    <tr>\n",
              "      <th>0</th>\n",
              "      <td>KS</td>\n",
              "      <td>128</td>\n",
              "      <td>415</td>\n",
              "      <td>382-4657</td>\n",
              "      <td>no</td>\n",
              "      <td>yes</td>\n",
              "      <td>25</td>\n",
              "      <td>265.1</td>\n",
              "      <td>110</td>\n",
              "      <td>45.07</td>\n",
              "      <td>...</td>\n",
              "      <td>99</td>\n",
              "      <td>16.78</td>\n",
              "      <td>244.7</td>\n",
              "      <td>91</td>\n",
              "      <td>11.01</td>\n",
              "      <td>10.0</td>\n",
              "      <td>3</td>\n",
              "      <td>2.70</td>\n",
              "      <td>1</td>\n",
              "      <td>False</td>\n",
              "    </tr>\n",
              "    <tr>\n",
              "      <th>1</th>\n",
              "      <td>OH</td>\n",
              "      <td>107</td>\n",
              "      <td>415</td>\n",
              "      <td>371-7191</td>\n",
              "      <td>no</td>\n",
              "      <td>yes</td>\n",
              "      <td>26</td>\n",
              "      <td>161.6</td>\n",
              "      <td>123</td>\n",
              "      <td>27.47</td>\n",
              "      <td>...</td>\n",
              "      <td>103</td>\n",
              "      <td>16.62</td>\n",
              "      <td>254.4</td>\n",
              "      <td>103</td>\n",
              "      <td>11.45</td>\n",
              "      <td>13.7</td>\n",
              "      <td>3</td>\n",
              "      <td>3.70</td>\n",
              "      <td>1</td>\n",
              "      <td>False</td>\n",
              "    </tr>\n",
              "    <tr>\n",
              "      <th>2</th>\n",
              "      <td>NJ</td>\n",
              "      <td>137</td>\n",
              "      <td>415</td>\n",
              "      <td>358-1921</td>\n",
              "      <td>no</td>\n",
              "      <td>no</td>\n",
              "      <td>0</td>\n",
              "      <td>243.4</td>\n",
              "      <td>114</td>\n",
              "      <td>41.38</td>\n",
              "      <td>...</td>\n",
              "      <td>110</td>\n",
              "      <td>10.30</td>\n",
              "      <td>162.6</td>\n",
              "      <td>104</td>\n",
              "      <td>7.32</td>\n",
              "      <td>12.2</td>\n",
              "      <td>5</td>\n",
              "      <td>3.29</td>\n",
              "      <td>0</td>\n",
              "      <td>False</td>\n",
              "    </tr>\n",
              "    <tr>\n",
              "      <th>3</th>\n",
              "      <td>OH</td>\n",
              "      <td>84</td>\n",
              "      <td>408</td>\n",
              "      <td>375-9999</td>\n",
              "      <td>yes</td>\n",
              "      <td>no</td>\n",
              "      <td>0</td>\n",
              "      <td>299.4</td>\n",
              "      <td>71</td>\n",
              "      <td>50.90</td>\n",
              "      <td>...</td>\n",
              "      <td>88</td>\n",
              "      <td>5.26</td>\n",
              "      <td>196.9</td>\n",
              "      <td>89</td>\n",
              "      <td>8.86</td>\n",
              "      <td>6.6</td>\n",
              "      <td>7</td>\n",
              "      <td>1.78</td>\n",
              "      <td>2</td>\n",
              "      <td>False</td>\n",
              "    </tr>\n",
              "    <tr>\n",
              "      <th>4</th>\n",
              "      <td>OK</td>\n",
              "      <td>75</td>\n",
              "      <td>415</td>\n",
              "      <td>330-6626</td>\n",
              "      <td>yes</td>\n",
              "      <td>no</td>\n",
              "      <td>0</td>\n",
              "      <td>166.7</td>\n",
              "      <td>113</td>\n",
              "      <td>28.34</td>\n",
              "      <td>...</td>\n",
              "      <td>122</td>\n",
              "      <td>12.61</td>\n",
              "      <td>186.9</td>\n",
              "      <td>121</td>\n",
              "      <td>8.41</td>\n",
              "      <td>10.1</td>\n",
              "      <td>3</td>\n",
              "      <td>2.73</td>\n",
              "      <td>3</td>\n",
              "      <td>False</td>\n",
              "    </tr>\n",
              "    <tr>\n",
              "      <th>5</th>\n",
              "      <td>AL</td>\n",
              "      <td>118</td>\n",
              "      <td>510</td>\n",
              "      <td>391-8027</td>\n",
              "      <td>yes</td>\n",
              "      <td>no</td>\n",
              "      <td>0</td>\n",
              "      <td>223.4</td>\n",
              "      <td>98</td>\n",
              "      <td>37.98</td>\n",
              "      <td>...</td>\n",
              "      <td>101</td>\n",
              "      <td>18.75</td>\n",
              "      <td>203.9</td>\n",
              "      <td>118</td>\n",
              "      <td>9.18</td>\n",
              "      <td>6.3</td>\n",
              "      <td>6</td>\n",
              "      <td>1.70</td>\n",
              "      <td>0</td>\n",
              "      <td>False</td>\n",
              "    </tr>\n",
              "    <tr>\n",
              "      <th>6</th>\n",
              "      <td>MA</td>\n",
              "      <td>121</td>\n",
              "      <td>510</td>\n",
              "      <td>355-9993</td>\n",
              "      <td>no</td>\n",
              "      <td>yes</td>\n",
              "      <td>24</td>\n",
              "      <td>218.2</td>\n",
              "      <td>88</td>\n",
              "      <td>37.09</td>\n",
              "      <td>...</td>\n",
              "      <td>108</td>\n",
              "      <td>29.62</td>\n",
              "      <td>212.6</td>\n",
              "      <td>118</td>\n",
              "      <td>9.57</td>\n",
              "      <td>7.5</td>\n",
              "      <td>7</td>\n",
              "      <td>2.03</td>\n",
              "      <td>3</td>\n",
              "      <td>False</td>\n",
              "    </tr>\n",
              "    <tr>\n",
              "      <th>7</th>\n",
              "      <td>MO</td>\n",
              "      <td>147</td>\n",
              "      <td>415</td>\n",
              "      <td>329-9001</td>\n",
              "      <td>yes</td>\n",
              "      <td>no</td>\n",
              "      <td>0</td>\n",
              "      <td>157.0</td>\n",
              "      <td>79</td>\n",
              "      <td>26.69</td>\n",
              "      <td>...</td>\n",
              "      <td>94</td>\n",
              "      <td>8.76</td>\n",
              "      <td>211.8</td>\n",
              "      <td>96</td>\n",
              "      <td>9.53</td>\n",
              "      <td>7.1</td>\n",
              "      <td>6</td>\n",
              "      <td>1.92</td>\n",
              "      <td>0</td>\n",
              "      <td>False</td>\n",
              "    </tr>\n",
              "    <tr>\n",
              "      <th>8</th>\n",
              "      <td>LA</td>\n",
              "      <td>117</td>\n",
              "      <td>408</td>\n",
              "      <td>335-4719</td>\n",
              "      <td>no</td>\n",
              "      <td>no</td>\n",
              "      <td>0</td>\n",
              "      <td>184.5</td>\n",
              "      <td>97</td>\n",
              "      <td>31.37</td>\n",
              "      <td>...</td>\n",
              "      <td>80</td>\n",
              "      <td>29.89</td>\n",
              "      <td>215.8</td>\n",
              "      <td>90</td>\n",
              "      <td>9.71</td>\n",
              "      <td>8.7</td>\n",
              "      <td>4</td>\n",
              "      <td>2.35</td>\n",
              "      <td>1</td>\n",
              "      <td>False</td>\n",
              "    </tr>\n",
              "    <tr>\n",
              "      <th>9</th>\n",
              "      <td>WV</td>\n",
              "      <td>141</td>\n",
              "      <td>415</td>\n",
              "      <td>330-8173</td>\n",
              "      <td>yes</td>\n",
              "      <td>yes</td>\n",
              "      <td>37</td>\n",
              "      <td>258.6</td>\n",
              "      <td>84</td>\n",
              "      <td>43.96</td>\n",
              "      <td>...</td>\n",
              "      <td>111</td>\n",
              "      <td>18.87</td>\n",
              "      <td>326.4</td>\n",
              "      <td>97</td>\n",
              "      <td>14.69</td>\n",
              "      <td>11.2</td>\n",
              "      <td>5</td>\n",
              "      <td>3.02</td>\n",
              "      <td>0</td>\n",
              "      <td>False</td>\n",
              "    </tr>\n",
              "  </tbody>\n",
              "</table>\n",
              "<p>10 rows × 21 columns</p>\n",
              "</div>\n",
              "    <div class=\"colab-df-buttons\">\n",
              "\n",
              "  <div class=\"colab-df-container\">\n",
              "    <button class=\"colab-df-convert\" onclick=\"convertToInteractive('df-4d3bd996-1eea-4d66-b593-5b8238af1357')\"\n",
              "            title=\"Convert this dataframe to an interactive table.\"\n",
              "            style=\"display:none;\">\n",
              "\n",
              "  <svg xmlns=\"http://www.w3.org/2000/svg\" height=\"24px\" viewBox=\"0 -960 960 960\">\n",
              "    <path d=\"M120-120v-720h720v720H120Zm60-500h600v-160H180v160Zm220 220h160v-160H400v160Zm0 220h160v-160H400v160ZM180-400h160v-160H180v160Zm440 0h160v-160H620v160ZM180-180h160v-160H180v160Zm440 0h160v-160H620v160Z\"/>\n",
              "  </svg>\n",
              "    </button>\n",
              "\n",
              "  <style>\n",
              "    .colab-df-container {\n",
              "      display:flex;\n",
              "      gap: 12px;\n",
              "    }\n",
              "\n",
              "    .colab-df-convert {\n",
              "      background-color: #E8F0FE;\n",
              "      border: none;\n",
              "      border-radius: 50%;\n",
              "      cursor: pointer;\n",
              "      display: none;\n",
              "      fill: #1967D2;\n",
              "      height: 32px;\n",
              "      padding: 0 0 0 0;\n",
              "      width: 32px;\n",
              "    }\n",
              "\n",
              "    .colab-df-convert:hover {\n",
              "      background-color: #E2EBFA;\n",
              "      box-shadow: 0px 1px 2px rgba(60, 64, 67, 0.3), 0px 1px 3px 1px rgba(60, 64, 67, 0.15);\n",
              "      fill: #174EA6;\n",
              "    }\n",
              "\n",
              "    .colab-df-buttons div {\n",
              "      margin-bottom: 4px;\n",
              "    }\n",
              "\n",
              "    [theme=dark] .colab-df-convert {\n",
              "      background-color: #3B4455;\n",
              "      fill: #D2E3FC;\n",
              "    }\n",
              "\n",
              "    [theme=dark] .colab-df-convert:hover {\n",
              "      background-color: #434B5C;\n",
              "      box-shadow: 0px 1px 3px 1px rgba(0, 0, 0, 0.15);\n",
              "      filter: drop-shadow(0px 1px 2px rgba(0, 0, 0, 0.3));\n",
              "      fill: #FFFFFF;\n",
              "    }\n",
              "  </style>\n",
              "\n",
              "    <script>\n",
              "      const buttonEl =\n",
              "        document.querySelector('#df-4d3bd996-1eea-4d66-b593-5b8238af1357 button.colab-df-convert');\n",
              "      buttonEl.style.display =\n",
              "        google.colab.kernel.accessAllowed ? 'block' : 'none';\n",
              "\n",
              "      async function convertToInteractive(key) {\n",
              "        const element = document.querySelector('#df-4d3bd996-1eea-4d66-b593-5b8238af1357');\n",
              "        const dataTable =\n",
              "          await google.colab.kernel.invokeFunction('convertToInteractive',\n",
              "                                                    [key], {});\n",
              "        if (!dataTable) return;\n",
              "\n",
              "        const docLinkHtml = 'Like what you see? Visit the ' +\n",
              "          '<a target=\"_blank\" href=https://colab.research.google.com/notebooks/data_table.ipynb>data table notebook</a>'\n",
              "          + ' to learn more about interactive tables.';\n",
              "        element.innerHTML = '';\n",
              "        dataTable['output_type'] = 'display_data';\n",
              "        await google.colab.output.renderOutput(dataTable, element);\n",
              "        const docLink = document.createElement('div');\n",
              "        docLink.innerHTML = docLinkHtml;\n",
              "        element.appendChild(docLink);\n",
              "      }\n",
              "    </script>\n",
              "  </div>\n",
              "\n",
              "\n",
              "<div id=\"df-14744475-7a92-46ed-ab55-fae616a4f18e\">\n",
              "  <button class=\"colab-df-quickchart\" onclick=\"quickchart('df-14744475-7a92-46ed-ab55-fae616a4f18e')\"\n",
              "            title=\"Suggest charts\"\n",
              "            style=\"display:none;\">\n",
              "\n",
              "<svg xmlns=\"http://www.w3.org/2000/svg\" height=\"24px\"viewBox=\"0 0 24 24\"\n",
              "     width=\"24px\">\n",
              "    <g>\n",
              "        <path d=\"M19 3H5c-1.1 0-2 .9-2 2v14c0 1.1.9 2 2 2h14c1.1 0 2-.9 2-2V5c0-1.1-.9-2-2-2zM9 17H7v-7h2v7zm4 0h-2V7h2v10zm4 0h-2v-4h2v4z\"/>\n",
              "    </g>\n",
              "</svg>\n",
              "  </button>\n",
              "\n",
              "<style>\n",
              "  .colab-df-quickchart {\n",
              "      --bg-color: #E8F0FE;\n",
              "      --fill-color: #1967D2;\n",
              "      --hover-bg-color: #E2EBFA;\n",
              "      --hover-fill-color: #174EA6;\n",
              "      --disabled-fill-color: #AAA;\n",
              "      --disabled-bg-color: #DDD;\n",
              "  }\n",
              "\n",
              "  [theme=dark] .colab-df-quickchart {\n",
              "      --bg-color: #3B4455;\n",
              "      --fill-color: #D2E3FC;\n",
              "      --hover-bg-color: #434B5C;\n",
              "      --hover-fill-color: #FFFFFF;\n",
              "      --disabled-bg-color: #3B4455;\n",
              "      --disabled-fill-color: #666;\n",
              "  }\n",
              "\n",
              "  .colab-df-quickchart {\n",
              "    background-color: var(--bg-color);\n",
              "    border: none;\n",
              "    border-radius: 50%;\n",
              "    cursor: pointer;\n",
              "    display: none;\n",
              "    fill: var(--fill-color);\n",
              "    height: 32px;\n",
              "    padding: 0;\n",
              "    width: 32px;\n",
              "  }\n",
              "\n",
              "  .colab-df-quickchart:hover {\n",
              "    background-color: var(--hover-bg-color);\n",
              "    box-shadow: 0 1px 2px rgba(60, 64, 67, 0.3), 0 1px 3px 1px rgba(60, 64, 67, 0.15);\n",
              "    fill: var(--button-hover-fill-color);\n",
              "  }\n",
              "\n",
              "  .colab-df-quickchart-complete:disabled,\n",
              "  .colab-df-quickchart-complete:disabled:hover {\n",
              "    background-color: var(--disabled-bg-color);\n",
              "    fill: var(--disabled-fill-color);\n",
              "    box-shadow: none;\n",
              "  }\n",
              "\n",
              "  .colab-df-spinner {\n",
              "    border: 2px solid var(--fill-color);\n",
              "    border-color: transparent;\n",
              "    border-bottom-color: var(--fill-color);\n",
              "    animation:\n",
              "      spin 1s steps(1) infinite;\n",
              "  }\n",
              "\n",
              "  @keyframes spin {\n",
              "    0% {\n",
              "      border-color: transparent;\n",
              "      border-bottom-color: var(--fill-color);\n",
              "      border-left-color: var(--fill-color);\n",
              "    }\n",
              "    20% {\n",
              "      border-color: transparent;\n",
              "      border-left-color: var(--fill-color);\n",
              "      border-top-color: var(--fill-color);\n",
              "    }\n",
              "    30% {\n",
              "      border-color: transparent;\n",
              "      border-left-color: var(--fill-color);\n",
              "      border-top-color: var(--fill-color);\n",
              "      border-right-color: var(--fill-color);\n",
              "    }\n",
              "    40% {\n",
              "      border-color: transparent;\n",
              "      border-right-color: var(--fill-color);\n",
              "      border-top-color: var(--fill-color);\n",
              "    }\n",
              "    60% {\n",
              "      border-color: transparent;\n",
              "      border-right-color: var(--fill-color);\n",
              "    }\n",
              "    80% {\n",
              "      border-color: transparent;\n",
              "      border-right-color: var(--fill-color);\n",
              "      border-bottom-color: var(--fill-color);\n",
              "    }\n",
              "    90% {\n",
              "      border-color: transparent;\n",
              "      border-bottom-color: var(--fill-color);\n",
              "    }\n",
              "  }\n",
              "</style>\n",
              "\n",
              "  <script>\n",
              "    async function quickchart(key) {\n",
              "      const quickchartButtonEl =\n",
              "        document.querySelector('#' + key + ' button');\n",
              "      quickchartButtonEl.disabled = true;  // To prevent multiple clicks.\n",
              "      quickchartButtonEl.classList.add('colab-df-spinner');\n",
              "      try {\n",
              "        const charts = await google.colab.kernel.invokeFunction(\n",
              "            'suggestCharts', [key], {});\n",
              "      } catch (error) {\n",
              "        console.error('Error during call to suggestCharts:', error);\n",
              "      }\n",
              "      quickchartButtonEl.classList.remove('colab-df-spinner');\n",
              "      quickchartButtonEl.classList.add('colab-df-quickchart-complete');\n",
              "    }\n",
              "    (() => {\n",
              "      let quickchartButtonEl =\n",
              "        document.querySelector('#df-14744475-7a92-46ed-ab55-fae616a4f18e button');\n",
              "      quickchartButtonEl.style.display =\n",
              "        google.colab.kernel.accessAllowed ? 'block' : 'none';\n",
              "    })();\n",
              "  </script>\n",
              "</div>\n",
              "\n",
              "    </div>\n",
              "  </div>\n"
            ],
            "application/vnd.google.colaboratory.intrinsic+json": {
              "type": "dataframe",
              "variable_name": "data_telecom"
            }
          },
          "metadata": {},
          "execution_count": 3
        }
      ],
      "source": [
        "# Solución propuesta\n",
        "\n",
        "# Carga del conjunto de datos y visualización de las 10 primeras filas\n",
        "import pandas as pd\n",
        "## Leer la base de datos\n",
        "data_telecom = pd.read_csv(\"Guia_2/telecom_churn.csv\")\n",
        "data_telecom.head(10)"
      ]
    },
    {
      "cell_type": "code",
      "source": [
        "# Crear la base de datos como un data frame y mostrar las primeras 5 filas del DataFrame\n",
        "df = pd.DataFrame(data_telecom)\n",
        "print(df)"
      ],
      "metadata": {
        "colab": {
          "base_uri": "https://localhost:8080/"
        },
        "collapsed": true,
        "id": "z7e7u1DolxFE",
        "outputId": "32000da9-aecc-4987-c949-6cad17f49aec"
      },
      "execution_count": null,
      "outputs": [
        {
          "output_type": "stream",
          "name": "stdout",
          "text": [
            "     state  account length  area code phone number international plan  \\\n",
            "0       KS             128        415     382-4657                 no   \n",
            "1       OH             107        415     371-7191                 no   \n",
            "2       NJ             137        415     358-1921                 no   \n",
            "3       OH              84        408     375-9999                yes   \n",
            "4       OK              75        415     330-6626                yes   \n",
            "...    ...             ...        ...          ...                ...   \n",
            "3328    AZ             192        415     414-4276                 no   \n",
            "3329    WV              68        415     370-3271                 no   \n",
            "3330    RI              28        510     328-8230                 no   \n",
            "3331    CT             184        510     364-6381                yes   \n",
            "3332    TN              74        415     400-4344                 no   \n",
            "\n",
            "     voice mail plan  number vmail messages  total day minutes  \\\n",
            "0                yes                     25              265.1   \n",
            "1                yes                     26              161.6   \n",
            "2                 no                      0              243.4   \n",
            "3                 no                      0              299.4   \n",
            "4                 no                      0              166.7   \n",
            "...              ...                    ...                ...   \n",
            "3328             yes                     36              156.2   \n",
            "3329              no                      0              231.1   \n",
            "3330              no                      0              180.8   \n",
            "3331              no                      0              213.8   \n",
            "3332             yes                     25              234.4   \n",
            "\n",
            "      total day calls  total day charge  ...  total eve calls  \\\n",
            "0                 110             45.07  ...               99   \n",
            "1                 123             27.47  ...              103   \n",
            "2                 114             41.38  ...              110   \n",
            "3                  71             50.90  ...               88   \n",
            "4                 113             28.34  ...              122   \n",
            "...               ...               ...  ...              ...   \n",
            "3328               77             26.55  ...              126   \n",
            "3329               57             39.29  ...               55   \n",
            "3330              109             30.74  ...               58   \n",
            "3331              105             36.35  ...               84   \n",
            "3332              113             39.85  ...               82   \n",
            "\n",
            "      total eve charge  total night minutes  total night calls  \\\n",
            "0                16.78                244.7                 91   \n",
            "1                16.62                254.4                103   \n",
            "2                10.30                162.6                104   \n",
            "3                 5.26                196.9                 89   \n",
            "4                12.61                186.9                121   \n",
            "...                ...                  ...                ...   \n",
            "3328             18.32                279.1                 83   \n",
            "3329             13.04                191.3                123   \n",
            "3330             24.55                191.9                 91   \n",
            "3331             13.57                139.2                137   \n",
            "3332             22.60                241.4                 77   \n",
            "\n",
            "      total night charge  total intl minutes  total intl calls  \\\n",
            "0                  11.01                10.0                 3   \n",
            "1                  11.45                13.7                 3   \n",
            "2                   7.32                12.2                 5   \n",
            "3                   8.86                 6.6                 7   \n",
            "4                   8.41                10.1                 3   \n",
            "...                  ...                 ...               ...   \n",
            "3328               12.56                 9.9                 6   \n",
            "3329                8.61                 9.6                 4   \n",
            "3330                8.64                14.1                 6   \n",
            "3331                6.26                 5.0                10   \n",
            "3332               10.86                13.7                 4   \n",
            "\n",
            "      total intl charge  customer service calls  churn  \n",
            "0                  2.70                       1  False  \n",
            "1                  3.70                       1  False  \n",
            "2                  3.29                       0  False  \n",
            "3                  1.78                       2  False  \n",
            "4                  2.73                       3  False  \n",
            "...                 ...                     ...    ...  \n",
            "3328               2.67                       2  False  \n",
            "3329               2.59                       3  False  \n",
            "3330               3.81                       2  False  \n",
            "3331               1.35                       2  False  \n",
            "3332               3.70                       0  False  \n",
            "\n",
            "[3333 rows x 21 columns]\n"
          ]
        }
      ]
    },
    {
      "cell_type": "code",
      "source": [
        "# Verifica cuántas filas y columnas tiene el dataset:\n",
        "print(\"El conjunto de datos tiene el siguiente número de filas y columnas:\")\n",
        "print(df.shape)"
      ],
      "metadata": {
        "colab": {
          "base_uri": "https://localhost:8080/"
        },
        "id": "YJjetnaYlbgY",
        "outputId": "f4204b47-6c02-4fc0-faf6-6e80bb455629"
      },
      "execution_count": null,
      "outputs": [
        {
          "output_type": "stream",
          "name": "stdout",
          "text": [
            "El conjunto de datos tiene el siguiente número de filas y columnas:\n",
            "(3333, 21)\n"
          ]
        }
      ]
    },
    {
      "cell_type": "code",
      "source": [
        "# Muestra información general del dataset, incluyendo los tipos de datos:\n",
        "print(\"Información general del df y tipo de datos:\")\n",
        "print(df.info())"
      ],
      "metadata": {
        "colab": {
          "base_uri": "https://localhost:8080/"
        },
        "id": "QAVPgNV6met7",
        "outputId": "6004d741-8a78-4c30-a0fd-23f848b65877"
      },
      "execution_count": null,
      "outputs": [
        {
          "output_type": "stream",
          "name": "stdout",
          "text": [
            "Información general del df y tipo de datos:\n",
            "<class 'pandas.core.frame.DataFrame'>\n",
            "RangeIndex: 3333 entries, 0 to 3332\n",
            "Data columns (total 21 columns):\n",
            " #   Column                  Non-Null Count  Dtype  \n",
            "---  ------                  --------------  -----  \n",
            " 0   state                   3333 non-null   object \n",
            " 1   account length          3333 non-null   int64  \n",
            " 2   area code               3333 non-null   int64  \n",
            " 3   phone number            3333 non-null   object \n",
            " 4   international plan      3333 non-null   object \n",
            " 5   voice mail plan         3333 non-null   object \n",
            " 6   number vmail messages   3333 non-null   int64  \n",
            " 7   total day minutes       3333 non-null   float64\n",
            " 8   total day calls         3333 non-null   int64  \n",
            " 9   total day charge        3333 non-null   float64\n",
            " 10  total eve minutes       3333 non-null   float64\n",
            " 11  total eve calls         3333 non-null   int64  \n",
            " 12  total eve charge        3333 non-null   float64\n",
            " 13  total night minutes     3333 non-null   float64\n",
            " 14  total night calls       3333 non-null   int64  \n",
            " 15  total night charge      3333 non-null   float64\n",
            " 16  total intl minutes      3333 non-null   float64\n",
            " 17  total intl calls        3333 non-null   int64  \n",
            " 18  total intl charge       3333 non-null   float64\n",
            " 19  customer service calls  3333 non-null   int64  \n",
            " 20  churn                   3333 non-null   bool   \n",
            "dtypes: bool(1), float64(8), int64(8), object(4)\n",
            "memory usage: 524.2+ KB\n",
            "None\n"
          ]
        }
      ]
    },
    {
      "cell_type": "code",
      "source": [
        "# Identifica si hay valores nulos en alguna columna:\n",
        "print(\" Valores faltantes en cada columna:\")\n",
        "print(df.isnull().sum())"
      ],
      "metadata": {
        "colab": {
          "base_uri": "https://localhost:8080/"
        },
        "id": "ojvw5XHImjGg",
        "outputId": "f4ffc087-ee20-4ea6-ffd7-4e50b744f421"
      },
      "execution_count": null,
      "outputs": [
        {
          "output_type": "stream",
          "name": "stdout",
          "text": [
            " Valores faltantes en cada columna:\n",
            "state                     0\n",
            "account length            0\n",
            "area code                 0\n",
            "phone number              0\n",
            "international plan        0\n",
            "voice mail plan           0\n",
            "number vmail messages     0\n",
            "total day minutes         0\n",
            "total day calls           0\n",
            "total day charge          0\n",
            "total eve minutes         0\n",
            "total eve calls           0\n",
            "total eve charge          0\n",
            "total night minutes       0\n",
            "total night calls         0\n",
            "total night charge        0\n",
            "total intl minutes        0\n",
            "total intl calls          0\n",
            "total intl charge         0\n",
            "customer service calls    0\n",
            "churn                     0\n",
            "dtype: int64\n"
          ]
        }
      ]
    },
    {
      "cell_type": "markdown",
      "source": [
        "**Análisis de Churn y Factores Relacionados**\n",
        "\n",
        "Calcula el porcentaje de clientes que han desertado (churn = 1).\n",
        "\n",
        "Identifica si los clientes con plan internacional (international plan) tienen mayor tasa de deserción.\n",
        "\n",
        "Identifica si los clientes con buzón de voz (voice mail plan) tienen menor tasa de deserción."
      ],
      "metadata": {
        "id": "PIGXq-ijFgb4"
      }
    },
    {
      "cell_type": "code",
      "source": [
        "# Solución propuesta\n",
        "\n",
        "# Calcular el porcentaje de clientes que han desertado (churn = 1):\n",
        "clientes_deser = df['churn'].mean() * 100 # columna de valores 0 y 1\n",
        "print(f\"El porcentaje de clientes que han desertado es: {clientes_deser:.2f}%\")\n",
        "\n",
        "# Identificar si los clientes con plan internacional (international plan) tienen mayor tasa de deserción:\n",
        "tasa_plan_int = df.groupby('international plan')['churn'].mean() * 100\n",
        "for plan, tasa in tasa_plan_int.items():\n",
        "    print(f\"Tasa de deserción para clientes con plan {plan}: {tasa:.2f}%\")\n",
        "\n",
        "# Identifica si los clientes con buzón de voz (voice mail plan) tienen menor tasa de deserción:\n",
        "tasa_bvoz = df.groupby('voice mail plan')['churn'].mean() * 100\n",
        "for buzon_voz, tasa in tasa_bvoz.items():\n",
        "    print(f\"Tasa de deserción para clientes con buzón de voz {buzon_voz}: {tasa:.2f}%\")"
      ],
      "metadata": {
        "id": "3_TFqdwBwUD-",
        "colab": {
          "base_uri": "https://localhost:8080/"
        },
        "outputId": "c2464c32-7c3c-44b8-95f1-6f5afc2b29bc"
      },
      "execution_count": null,
      "outputs": [
        {
          "output_type": "stream",
          "name": "stdout",
          "text": [
            "El porcentaje de clientes que han desertado es: 14.49%\n",
            "Tasa de deserción para clientes con plan no: 11.50%\n",
            "Tasa de deserción para clientes con plan yes: 42.41%\n",
            "Tasa de deserción para clientes con buzón de voz no: 16.72%\n",
            "Tasa de deserción para clientes con buzón de voz yes: 8.68%\n"
          ]
        }
      ]
    },
    {
      "cell_type": "markdown",
      "source": [
        "La tasa de deserción es más alta para clientes que cuentan con planes internacionales (42,41%), mientras que los que no tienen plan internacional tienen una tasa de 11,50%.\n",
        "\n",
        "Si los clientes cuentan con buzón de voz la tasa de deserción es más baja (8,68%), mientras que los clientes que no tienen buzón de voz tienen una tasa de deserción más alta (16,72%)"
      ],
      "metadata": {
        "id": "snz8d_ZUxA3I"
      }
    },
    {
      "cell_type": "markdown",
      "source": [
        "**Análisis de la Duración del Servicio y Deserción**\n",
        "\n",
        "¿Cuál es la duración promedio de la cuenta (account length) entre clientes que desertaron y los que permanecen?\n",
        "\n",
        "¿Los clientes con cuentas más antiguas tienen más probabilidades de desertar?"
      ],
      "metadata": {
        "id": "yL8Y_juFFup7"
      }
    },
    {
      "cell_type": "code",
      "source": [
        "# Solución propuesta\n",
        "\n",
        "# ¿Cuál es la duración promedio de la cuenta (account length) entre clientes que desertaron y los que permanecen? :\n",
        "# ¿Los clientes con cuentas más antiguas tienen más probabilidades de desertar?\n",
        "duracion_promedio = df.groupby('churn')['account length'].mean()\n",
        "for dura_tiempo, tiempo in duracion_promedio.items():\n",
        "    print(f\"Duración promedio para los clientes que desertaron y permanecen: {dura_tiempo}: {tiempo:.2f}\")"
      ],
      "metadata": {
        "id": "7ViU0n6lGFao",
        "colab": {
          "base_uri": "https://localhost:8080/"
        },
        "outputId": "f0f8df2d-dceb-488d-9e60-6a48acb24cf5"
      },
      "execution_count": null,
      "outputs": [
        {
          "output_type": "stream",
          "name": "stdout",
          "text": [
            "Duración promedio para los clientes que desertaron y permanecen: False: 100.79\n",
            "Duración promedio para los clientes que desertaron y permanecen: True: 102.66\n"
          ]
        }
      ]
    },
    {
      "cell_type": "markdown",
      "source": [
        "El tiempo promedio de duración de los clientes que desertaron es de 102,66, mientras que para los que aún son clientes es de 100,79. Es decir, que se puede pensar que los clientes más antiguos tienen más probabilidades o son más propensos a desertar."
      ],
      "metadata": {
        "id": "Ne04847p3wQg"
      }
    },
    {
      "cell_type": "code",
      "source": [
        " # se puede plantear calcular la correlacion entre la variable tiempo (account length) y el churn para validar si los más antiguos son más propensos a desertar o no:\n",
        "correlacion = df[['account length','churn']].corr(method='spearman') # se usa spearman dado que la columna churn es categorica\n",
        "print(correlacion)"
      ],
      "metadata": {
        "colab": {
          "base_uri": "https://localhost:8080/"
        },
        "id": "8qJYELIH48IX",
        "outputId": "7880fb11-c7e8-4488-b90a-763b23ffeb00"
      },
      "execution_count": null,
      "outputs": [
        {
          "output_type": "stream",
          "name": "stdout",
          "text": [
            "                account length     churn\n",
            "account length        1.000000  0.015583\n",
            "churn                 0.015583  1.000000\n"
          ]
        }
      ]
    },
    {
      "cell_type": "markdown",
      "source": [
        "Dado que la correlación es 0,015 que es un valor muy cercano a cero, significa que el tiempo de antiguedad del cliente y la deserción no están correlacionados. Es decir, que no hay evidencia de que las cuentas/clientes más antiguos tengan más o menos probabilidad de desertar."
      ],
      "metadata": {
        "id": "dniqwftJ7Miv"
      }
    },
    {
      "cell_type": "markdown",
      "source": [
        "**Relación entre Deserción y Uso del Servicio**\n",
        "\n",
        "Compara la cantidad de minutos usados en llamadas diurnas (total day minutes) entre clientes con y sin churn.\n",
        "\n",
        "Compara la cantidad de minutos usados en llamadas nocturnas (total night minutes).\n",
        "\n",
        "Compara el número total de llamadas (total day calls) entre clientes con y sin churn."
      ],
      "metadata": {
        "id": "vyaa82K0GF6B"
      }
    },
    {
      "cell_type": "code",
      "source": [
        "# Solución propuesta\n",
        "\n",
        "# Comparar la cantidad de minutos usados en llamadas diurnas (total day minutes) entre clientes con y sin churn.\n",
        "prom_minutos_dia = df.groupby('churn')['total day minutes'].mean()\n",
        "for prom_dia, dia in prom_minutos_dia.items():\n",
        "    print(f\"Cantidad de minutos usados en llamadas diurnas: {prom_dia}: {dia:.2f}\")"
      ],
      "metadata": {
        "id": "d4aPKcv2GrpL",
        "colab": {
          "base_uri": "https://localhost:8080/"
        },
        "outputId": "8fa8580f-e01b-4fa7-a64c-a4d7a094d09b"
      },
      "execution_count": null,
      "outputs": [
        {
          "output_type": "stream",
          "name": "stdout",
          "text": [
            "Cantidad de minutos usados en llamadas diurnas: False: 175.18\n",
            "Cantidad de minutos usados en llamadas diurnas: True: 206.91\n"
          ]
        }
      ]
    },
    {
      "cell_type": "markdown",
      "source": [
        "Debido a que aquellos clientes que desertaron (True) tienen un mayor consumo de minutos, se puede pensar que aquellos clientes que hablan más durante el día tienen más probabilidades de desertar."
      ],
      "metadata": {
        "id": "JktDhA2m87ig"
      }
    },
    {
      "cell_type": "code",
      "source": [
        "# Comparar la cantidad de minutos usados en llamadas nocturnas (total night minutes):\n",
        "prom_minutos_noche = df.groupby('churn')['total night minutes'].mean()\n",
        "for prom_noche, noche in prom_minutos_noche.items():\n",
        "    print(f\"Cantidad de minutos usados en llamadas nocturnas: {prom_noche}: {noche:.2f}\")"
      ],
      "metadata": {
        "colab": {
          "base_uri": "https://localhost:8080/"
        },
        "id": "Ne26gGZl9Rnh",
        "outputId": "38379273-03da-4a9e-b743-a2688fbbcb3d"
      },
      "execution_count": null,
      "outputs": [
        {
          "output_type": "stream",
          "name": "stdout",
          "text": [
            "Cantidad de minutos usados en llamadas nocturnas: False: 200.13\n",
            "Cantidad de minutos usados en llamadas nocturnas: True: 205.23\n"
          ]
        }
      ]
    },
    {
      "cell_type": "markdown",
      "source": [
        "Debido a que aquellos clientes que desertaron (True) tienen un mayor consumo de minutos, se puede pensar que aquellos clientes que hablan más durante la noche tienen más probabilidades de desertar."
      ],
      "metadata": {
        "id": "KqsD-1ty-_7g"
      }
    },
    {
      "cell_type": "code",
      "source": [
        "# Comparar el número total de llamadas (total day calls) entre clientes con y sin churn:\n",
        "prom_llamadas_dia = df.groupby('churn')['total day calls'].mean()\n",
        "for total_llamadas, tot_dia in prom_llamadas_dia.items():\n",
        "    print(f\"Número total de llamadas en el día: {total_llamadas}: {tot_dia:.2f}\")"
      ],
      "metadata": {
        "colab": {
          "base_uri": "https://localhost:8080/"
        },
        "id": "yvI_OBE8-NII",
        "outputId": "81f8eb34-cba0-4b2a-94a0-e8231af7128b"
      },
      "execution_count": null,
      "outputs": [
        {
          "output_type": "stream",
          "name": "stdout",
          "text": [
            "Número total de llamadas en el día: False: 100.28\n",
            "Número total de llamadas en el día: True: 101.34\n"
          ]
        }
      ]
    },
    {
      "cell_type": "markdown",
      "source": [
        "Debido a que aquellos clientes que desertaron (True) tienen un número de llamadas muy cercano a aquellos que no desertaron (False), no se podría afirmar que quienes realizan más llamadas son más propensos a desertar."
      ],
      "metadata": {
        "id": "J3uu1MWJ9fJr"
      }
    },
    {
      "cell_type": "markdown",
      "source": [
        "**Impacto de las Llamadas al Servicio al Cliente en la Deserción**\n",
        "\n",
        "Calcula el número promedio de llamadas al servicio al cliente (customer service calls) entre clientes que desertaron y los que no.\n",
        "\n",
        "Divide los clientes en dos grupos:\n",
        "\n",
        "- Grupo 1: Clientes que llamaron más de 3 veces al servicio al cliente.\n",
        "- Grupo 2: Clientes que llamaron 3 veces o menos.\n",
        "Compara la tasa de churn entre ambos grupos."
      ],
      "metadata": {
        "id": "aKl9LnZgGsDT"
      }
    },
    {
      "cell_type": "code",
      "source": [
        "# Solución propuesta\n",
        "\n",
        "# Calcular el número promedio de llamdas al servicio al cliente por churn:\n",
        "prom_llamadas_sc = df.groupby('churn')['customer service calls'].mean()\n",
        "for prom_sc, sc in prom_llamadas_sc.items():\n",
        "    print(f\"Número promedio de llamadas al servicio al cliente: {prom_sc}: {sc:.2f}\")\n",
        "# Dividir los clientes en dos grupos\n",
        "# Crear una nueva columna:\n",
        "df['grupo_llamadas'] = df['customer service calls'].apply(lambda x: 'Más de 3' if x > 3 else '3 o menos') # apply permite aplicar una función perzonalizada a cada valor de la columna. Lambda es una función que evalua cada valor 'x' en la columna\n",
        "prom_llamadas_sc_grupos = df.groupby('grupo_llamadas')['churn'].mean() *100\n",
        "for prom_sc_grupos, sc_grupos in prom_llamadas_sc_grupos.items():\n",
        "    print(f\"Grupo '{prom_sc_grupos}': Tasa de churn: {sc_grupos:.2f}%\")\n"
      ],
      "metadata": {
        "id": "ac9qDXgrGz-M",
        "colab": {
          "base_uri": "https://localhost:8080/"
        },
        "outputId": "c9a185aa-3ad6-4d2a-d775-fe81001c10c0"
      },
      "execution_count": null,
      "outputs": [
        {
          "output_type": "stream",
          "name": "stdout",
          "text": [
            "Número promedio de llamadas al servicio al cliente: False: 1.45\n",
            "Número promedio de llamadas al servicio al cliente: True: 2.23\n",
            "Grupo '3 o menos': Tasa de churn: 11.25%\n",
            "Grupo 'Más de 3': Tasa de churn: 51.69%\n"
          ]
        }
      ]
    },
    {
      "cell_type": "markdown",
      "source": [
        "El número promedio de llamadas al servicio al cliente de aquellos clientes que desertaron es de 2,23 es decir que es mucho más alto de aquellos clientes que aun están activos.\n",
        "\n",
        "Aquellos clientes que llamaron más de 3 veces a servicio al cliente tienen una mayor tasa de churn, frente a aquellos que llamaron 3 veces o menos. Es decir, que este podría ser un indicador de deserción y de no satisfacción por parte del usuario."
      ],
      "metadata": {
        "id": "N3uOeKrsDcz3"
      }
    },
    {
      "cell_type": "markdown",
      "source": [
        "**Análisis del Costo de las Llamadas y Churn**\n",
        "\n",
        "Compara el costo total de llamadas diurnas (total day charge) entre clientes con y sin churn.\n",
        "\n",
        "Compara el costo total de llamadas nocturnas (total night charge).\n",
        "\n",
        "¿Los clientes con mayor gasto en llamadas internacionales (total intl charge) tienen más probabilidades de desertar?"
      ],
      "metadata": {
        "id": "U7oTziiyG0Wb"
      }
    },
    {
      "cell_type": "code",
      "source": [
        "# Solución propuesta\n",
        "\n",
        "# Comparar el costo total de llamadas diurnas (total day charge) entre clientes con y sin churn:\n",
        "prom_costo_dia = df.groupby('churn')['total day charge'].mean()\n",
        "for prom_cost_dia, costo_dia in prom_costo_dia.items():\n",
        "    print(f\"Costo promedio de llamadas diurnas entre clientes: {prom_cost_dia}: {costo_dia:.2f}\")"
      ],
      "metadata": {
        "id": "YWGmcLdoIYwx",
        "colab": {
          "base_uri": "https://localhost:8080/"
        },
        "outputId": "8c183c2b-43bb-44e5-a78a-dfc4dd4a0df4"
      },
      "execution_count": null,
      "outputs": [
        {
          "output_type": "stream",
          "name": "stdout",
          "text": [
            "Costo promedio de llamadas diurnas entre clientes: False: 29.78\n",
            "Costo promedio de llamadas diurnas entre clientes: True: 35.18\n"
          ]
        }
      ]
    },
    {
      "cell_type": "code",
      "source": [
        "# Comparar el costo total de llamadas nocturnas (total night charge):\n",
        "prom_costo_noche = df.groupby('churn')['total night charge'].mean()\n",
        "for prom_cost_noche, costo_noche in prom_costo_noche.items():\n",
        "    print(f\"Costo promedio de llamadas nocturnas entre clientes: {prom_cost_noche}: {costo_noche:.2f}\")"
      ],
      "metadata": {
        "colab": {
          "base_uri": "https://localhost:8080/"
        },
        "id": "8RDPzaajWJpr",
        "outputId": "4f1d77ac-b78b-4196-e2aa-c058939911ab"
      },
      "execution_count": null,
      "outputs": [
        {
          "output_type": "stream",
          "name": "stdout",
          "text": [
            "Costo promedio de llamadas nocturnas entre clientes: False: 9.01\n",
            "Costo promedio de llamadas nocturnas entre clientes: True: 9.24\n"
          ]
        }
      ]
    },
    {
      "cell_type": "code",
      "source": [
        "# ¿Los clientes con mayor gasto en llamadas internacionales (total intl charge) tienen más probabilidades de desertar?:\n",
        "prom_int_charge = df.groupby('churn')['total intl charge'].mean()\n",
        "for prom_intl, intl in prom_int_charge.items():\n",
        "    print(f\"Costo promedio de llamadas internacionales entre clientes: {prom_intl}: {intl:.2f}\")"
      ],
      "metadata": {
        "colab": {
          "base_uri": "https://localhost:8080/"
        },
        "id": "OCwCTGv1YDZ3",
        "outputId": "830c124d-470a-4f09-e38a-dd5bd2b851d7"
      },
      "execution_count": null,
      "outputs": [
        {
          "output_type": "stream",
          "name": "stdout",
          "text": [
            "Costo promedio de llamadas internacionales entre clientes: False: 2.74\n",
            "Costo promedio de llamadas internacionales entre clientes: True: 2.89\n"
          ]
        }
      ]
    },
    {
      "cell_type": "markdown",
      "source": [
        "El costo promedio de llamadas diurnas es mayor en los clientes que desertaron, es decir que si en el día existe un uso alto se puede pensar que son más propensos a desertar. Mientras que el costo promedio de llamadas en la noche no permite tener claridad frente a la decisión de desertar o no.\n",
        "\n",
        "Aunque el costo promedio en llamadas internacionales es un poco mayor en los clientes que desertan, no podría asegurarse que es un factor de decisión."
      ],
      "metadata": {
        "id": "8LGIxTdUYxhw"
      }
    }
  ]
}